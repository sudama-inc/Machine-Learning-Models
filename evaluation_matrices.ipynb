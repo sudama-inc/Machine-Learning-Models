{
  "nbformat": 4,
  "nbformat_minor": 0,
  "metadata": {
    "colab": {
      "provenance": [],
      "authorship_tag": "ABX9TyOnfRyKPVxAFlp1a1yNLRuu",
      "include_colab_link": true
    },
    "kernelspec": {
      "name": "python3",
      "display_name": "Python 3"
    },
    "language_info": {
      "name": "python"
    }
  },
  "cells": [
    {
      "cell_type": "markdown",
      "metadata": {
        "id": "view-in-github",
        "colab_type": "text"
      },
      "source": [
        "<a href=\"https://colab.research.google.com/github/sudama-inc/Machine-Learning-Regression-Models/blob/main/evaluation_matrices.ipynb\" target=\"_parent\"><img src=\"https://colab.research.google.com/assets/colab-badge.svg\" alt=\"Open In Colab\"/></a>"
      ]
    },
    {
      "cell_type": "code",
      "source": [
        "import math\n",
        "\n",
        "def calculate_rmse(data, m, b):\n",
        "    n = len(data)\n",
        "    if n == 0:\n",
        "        return None  # Handle the case of empty data\n",
        "    squared_errors = [(y - (m * x + b)) ** 2 for x, y in data]\n",
        "    mean_squared_error = sum(squared_errors) / n\n",
        "    rmse = math.sqrt(mean_squared_error)\n",
        "    return rmse\n",
        "\n",
        "# Example usage:\n",
        "data = [(1, 3), (2, 5)]\n",
        "m = -1\n",
        "b = 5\n",
        "rmse = calculate_rmse(data, m, b)\n",
        "print(\"Root Mean Squared Error:\", rmse)\n"
      ],
      "metadata": {
        "id": "dF04O6ijR7T8",
        "colab": {
          "base_uri": "https://localhost:8080/"
        },
        "outputId": "1024e08e-aa4e-4e22-8ac7-06012f08269d"
      },
      "execution_count": null,
      "outputs": [
        {
          "output_type": "stream",
          "name": "stdout",
          "text": [
            "Root Mean Squared Error: 1.5811388300841898\n"
          ]
        }
      ]
    },
    {
      "cell_type": "code",
      "source": [
        "def calculate_mae(data, m, b):\n",
        "    n = len(data)\n",
        "    if n == 0:\n",
        "        return None  # Handle the case of empty data\n",
        "    absolute_errors = [abs(y - (m * x + b)) for x, y in data]\n",
        "    mean_absolute_error = sum(absolute_errors) / n\n",
        "    return mean_absolute_error\n",
        "\n",
        "# Example usage:\n",
        "data = [(1, 3), (2, 5)]\n",
        "m = -1\n",
        "b = 5\n",
        "mae = calculate_mae(data, m, b)\n",
        "print(\"Mean Absolute Error:\", mae)\n"
      ],
      "metadata": {
        "id": "E_LSu0RQkphI",
        "colab": {
          "base_uri": "https://localhost:8080/"
        },
        "outputId": "88fc92d5-83e8-4a72-af80-aebf6db9ab44"
      },
      "execution_count": null,
      "outputs": [
        {
          "output_type": "stream",
          "name": "stdout",
          "text": [
            "Mean Absolute Error: 1.5\n"
          ]
        }
      ]
    },
    {
      "cell_type": "code",
      "source": [
        "def calculate_r2(y_true, y_pred):\n",
        "    # Calculate the mean of the actual values\n",
        "    mean_y_true = sum(y_true) / len(y_true)\n",
        "\n",
        "    # Calculate the total sum of squares (TSS)\n",
        "    tss = sum((y - mean_y_true) ** 2 for y in y_true)\n",
        "\n",
        "    # Calculate the residual sum of squares (RSS)\n",
        "    rss = sum((y_true[i] - y_pred[i]) ** 2 for i in range(len(y_true)))\n",
        "\n",
        "    # Calculate R-squared (R2)\n",
        "    r2 = 1 - (rss / tss)\n",
        "\n",
        "    return r2\n",
        "\n",
        "# Example usage:\n",
        "y_true = [3, -0.5, 2, 7]\n",
        "y_pred = [2.5, 0.0, 2, 8]\n",
        "\n",
        "r2 = calculate_r2(y_true, y_pred)\n",
        "print(\"R-squared (R2) Score:\", r2)\n"
      ],
      "metadata": {
        "colab": {
          "base_uri": "https://localhost:8080/"
        },
        "id": "iMF-UbyAawdq",
        "outputId": "50eb0cf8-f8ce-4250-d08a-2531cda9ca0c"
      },
      "execution_count": null,
      "outputs": [
        {
          "output_type": "stream",
          "name": "stdout",
          "text": [
            "R-squared (R2) Score: 0.9486081370449679\n"
          ]
        }
      ]
    },
    {
      "cell_type": "code",
      "source": [
        "def calculate_adjusted_r2(y_true, y_pred, num_features):\n",
        "    # Calculate the total sum of squares (TSS)\n",
        "    mean_y_true = sum(y_true) / len(y_true)\n",
        "    tss = sum((y - mean_y_true) ** 2 for y in y_true)\n",
        "\n",
        "    # Calculate the residual sum of squares (RSS)\n",
        "    rss = sum((y_true[i] - y_pred[i]) ** 2 for i in range(len(y_true)))\n",
        "\n",
        "    # Calculate R-squared (R2)\n",
        "    r2 = 1 - (rss / tss)\n",
        "\n",
        "    # Calculate the number of data points (n)\n",
        "    n = len(y_true)\n",
        "\n",
        "    # Calculate the number of predictors (p)\n",
        "    p = num_features\n",
        "\n",
        "    # Calculate Adjusted R-squared (Adjusted R2)\n",
        "    adjusted_r2 = 1 - ((1 - r2) * (n - 1) / (n - p - 1))\n",
        "\n",
        "    return adjusted_r2\n",
        "\n",
        "# Example usage:\n",
        "y_true = [3, -0.5, 2, 7]\n",
        "y_pred = [2.5, 0.0, 2, 8]\n",
        "num_features = 2  # Replace with the number of features used in your model\n",
        "\n",
        "adjusted_r2 = calculate_adjusted_r2(y_true, y_pred, num_features)\n",
        "print(\"Adjusted R-squared (Adjusted R2) Score:\", adjusted_r2)\n"
      ],
      "metadata": {
        "colab": {
          "base_uri": "https://localhost:8080/"
        },
        "id": "i66kTEhia0ki",
        "outputId": "4ad75645-378d-4423-fb07-c7e14422abb8"
      },
      "execution_count": null,
      "outputs": [
        {
          "output_type": "stream",
          "name": "stdout",
          "text": [
            "Adjusted R-squared (Adjusted R2) Score: 0.8458244111349038\n"
          ]
        }
      ]
    },
    {
      "cell_type": "code",
      "source": [],
      "metadata": {
        "id": "O7YrkTyha4i5"
      },
      "execution_count": null,
      "outputs": []
    },
    {
      "cell_type": "code",
      "source": [],
      "metadata": {
        "id": "D1oUugUda7Uj"
      },
      "execution_count": null,
      "outputs": []
    },
    {
      "cell_type": "code",
      "source": [
        "def binary_classification_report(y_true, y_pred):\n",
        "    # Initialize variables to count true positives, false positives, false negatives\n",
        "    tp = fp = fn = 0\n",
        "\n",
        "    # Calculate metrics\n",
        "    for true, pred in zip(y_true, y_pred):\n",
        "        if true == 1 and pred == 1:\n",
        "            tp += 1\n",
        "        elif true == 0 and pred == 1:\n",
        "            fp += 1\n",
        "        elif true == 1 and pred == 0:\n",
        "            fn += 1\n",
        "\n",
        "    # Calculate precision\n",
        "    precision = tp / (tp + fp) if (tp + fp) > 0 else 0.0\n",
        "\n",
        "    # Calculate recall\n",
        "    recall = tp / (tp + fn) if (tp + fn) > 0 else 0.0\n",
        "\n",
        "    # Calculate F1-score\n",
        "    f1_score = 2 * (precision * recall) / (precision + recall) if (precision + recall) > 0 else 0.0\n",
        "\n",
        "    # Calculate support (total number of instances)\n",
        "    support = len(y_true)\n",
        "\n",
        "    # Create a dictionary to store the classification report\n",
        "    report = {\n",
        "        'precision': precision,\n",
        "        'recall': recall,\n",
        "        'f1-score': f1_score,\n",
        "        'support': support\n",
        "    }\n",
        "\n",
        "    return report\n",
        "\n",
        "# Example usage:\n",
        "y_true = [1, 0, 1, 1, 0, 1]\n",
        "y_pred = [1, 0, 0, 1, 1, 1]\n",
        "\n",
        "classification_report = binary_classification_report(y_true, y_pred)\n",
        "print(\"Classification Report:\")\n",
        "for metric, value in classification_report.items():\n",
        "    print(f\"{metric}: {value}\")\n"
      ],
      "metadata": {
        "colab": {
          "base_uri": "https://localhost:8080/"
        },
        "id": "_KwkEKwha7XP",
        "outputId": "4a5e9790-19aa-4356-e198-4823440791e7"
      },
      "execution_count": null,
      "outputs": [
        {
          "output_type": "stream",
          "name": "stdout",
          "text": [
            "Classification Report:\n",
            "precision: 0.75\n",
            "recall: 0.75\n",
            "f1-score: 0.75\n",
            "support: 6\n"
          ]
        }
      ]
    },
    {
      "cell_type": "code",
      "source": [
        "def fibo(n, d):\n",
        "  if n in d:\n",
        "    return d[n]\n",
        "  else:\n",
        "    d[n] = fibo(n-1, d) + fibo(n-2, d)\n",
        "  return d[n]\n",
        "\n",
        "\n",
        "d = {0:1,1:1}\n",
        "print(fibo(15,d))\n",
        "print(d)"
      ],
      "metadata": {
        "id": "so26RP4ja75i"
      },
      "execution_count": null,
      "outputs": []
    }
  ]
}